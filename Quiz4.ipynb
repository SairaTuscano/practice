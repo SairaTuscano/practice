{
  "nbformat": 4,
  "nbformat_minor": 0,
  "metadata": {
    "kernelspec": {
      "display_name": "Python 3",
      "language": "python",
      "name": "python3"
    },
    "language_info": {
      "codemirror_mode": {
        "name": "ipython",
        "version": 3
      },
      "file_extension": ".py",
      "mimetype": "text/x-python",
      "name": "python",
      "nbconvert_exporter": "python",
      "pygments_lexer": "ipython3",
      "version": "3.7.4"
    },
    "colab": {
      "name": "Quiz4.ipynb",
      "provenance": [],
      "collapsed_sections": []
    }
  },
  "cells": [
    {
      "cell_type": "markdown",
      "metadata": {
        "id": "ARtW7GZQSUNL",
        "colab_type": "text"
      },
      "source": [
        "# Question 1\n",
        "\n",
        "Your task is to write and test a function which takes one argument (a year) and returns True if the year is a leap year, or False otherwise.\n",
        "\n",
        "Note: we've also prepared a short testing code, which you can use to test your function.\n",
        "\n",
        "The code uses two lists - one with the test data, and the other containing the expected results. The code will tell you if any of your results are invalid.\n",
        "\n",
        "\n",
        "**Hint**\n",
        "\n",
        "if year is divisible by 400 then it is a leap year OR if year is divisible by 100 then it is not a leap year or if year is divisible by 4 then it is a leap year. if all conditons not met, not it is not a leap year\n",
        "\n",
        "\n",
        "\n"
      ]
    },
    {
      "cell_type": "code",
      "metadata": {
        "id": "JArMWYCOSUNM",
        "colab_type": "code",
        "colab": {
          "base_uri": "https://localhost:8080/",
          "height": 35
        },
        "outputId": "aa0f2dc5-cc4e-4280-e8c0-e94924607ecc"
      },
      "source": [
        "def isYearLeap(year):\n",
        "  if year/400 and year/4:\n",
        "    return True\n",
        "  elif year/100:\n",
        "    return True\n",
        "  else:\n",
        "    return False\n",
        "\n",
        "\n",
        "isYearLeap(2000)\n",
        "\n"
      ],
      "execution_count": 8,
      "outputs": [
        {
          "output_type": "execute_result",
          "data": {
            "text/plain": [
              "True"
            ]
          },
          "metadata": {
            "tags": []
          },
          "execution_count": 8
        }
      ]
    },
    {
      "cell_type": "markdown",
      "metadata": {
        "id": "Cgt_AH-4SUNR",
        "colab_type": "text"
      },
      "source": [
        "### Run the Cell to Test your function"
      ]
    },
    {
      "cell_type": "code",
      "metadata": {
        "id": "0enIYnkBSUNS",
        "colab_type": "code",
        "colab": {
          "base_uri": "https://localhost:8080/",
          "height": 90
        },
        "outputId": "3790182c-3386-4616-a2a4-35ec28fb282f"
      },
      "source": [
        "testData = [1900, 2000, 2016, 1987]\n",
        "testResults = [False, True, True, False]\n",
        "for i in range(len(testData)):\n",
        "    yr = testData[i]\n",
        "    print(yr,\"->\",end=\"\")\n",
        "    result = isYearLeap(yr)\n",
        "    if result == testResults[i]:\n",
        "        print(\"OK\")\n",
        "    else:\n",
        "        print(\"Failed\")"
      ],
      "execution_count": 9,
      "outputs": [
        {
          "output_type": "stream",
          "text": [
            "1900 ->Failed\n",
            "2000 ->OK\n",
            "2016 ->OK\n",
            "1987 ->Failed\n"
          ],
          "name": "stdout"
        }
      ]
    },
    {
      "cell_type": "code",
      "metadata": {
        "id": "S3_pWCymSUNW",
        "colab_type": "code",
        "colab": {}
      },
      "source": [
        ""
      ],
      "execution_count": 0,
      "outputs": []
    },
    {
      "cell_type": "markdown",
      "metadata": {
        "id": "7je22GwpSUNZ",
        "colab_type": "text"
      },
      "source": [
        "# Question 2\n",
        "You are to write a Python class that represents a 3 dimension point in space with x, y and z coordinates on the cartesian plane\n",
        "\n",
        "Steps:\n",
        "- Write a class called **Point** that has a constructor which takes three arguments: the x, y and z coordinates of the point you want to represent.  Store this arguments as instance variable.\n",
        "- Enhance the print capability of this class so it prints the value of  the three coordinates\n",
        "- Create a method called distance that returns the distance of the point from origin. \n",
        "$ d = \\sqrt{x^2 + y^2 + z^2} $\n",
        "- if i create an object from this class called obj1 i want ```len(obj1) ==> to return the sum of all the three coordinates ```\n",
        "- Enchance the ability of two objects created from this class to be able to perform multiplication with each other. ```obj1 * obj2 = newObj ```  A multiplication operation between two objects should multitply the respective x, y and z coordinates and return a new Object.\n",
        "\n"
      ]
    },
    {
      "cell_type": "code",
      "metadata": {
        "id": "_jGnrDj3SUNa",
        "colab_type": "code",
        "colab": {
          "base_uri": "https://localhost:8080/",
          "height": 135
        },
        "outputId": "74317dd2-f1e7-4057-ab2d-a6cf1576f309"
      },
      "source": [
        "class Point():\n",
        "    \"\"\"\n",
        "    Represents a 3 dimension point in space with x, y and z coordinates\n",
        "    \"\"\"\n",
        "    # write code here\n",
        "    def __init__(self,x,y,z):\n",
        "      self.x=x\n",
        "      self.y=y\n",
        "      self.z=z\n",
        "\n",
        "    def __repr__(self):\n",
        "      return f'Point({self.x},{self.y},{self.z})'\n",
        "    \n",
        "def distance():\n",
        "  a=x**2+y**2+z**2\n",
        "  d=a**(1/2)\n",
        "  return d\n",
        "\n",
        "\n",
        "obj_1=point(2,3,4)\n",
        "obj_1=len(obj_1)\n",
        "obj_1=x+y+z\n",
        "    \n",
        "    "
      ],
      "execution_count": 10,
      "outputs": [
        {
          "output_type": "error",
          "ename": "SyntaxError",
          "evalue": "ignored",
          "traceback": [
            "\u001b[0;36m  File \u001b[0;32m\"<ipython-input-10-61a0c0c14bb5>\"\u001b[0;36m, line \u001b[0;32m8\u001b[0m\n\u001b[0;31m    \u001b[0m\n\u001b[0m    ^\u001b[0m\n\u001b[0;31mSyntaxError\u001b[0m\u001b[0;31m:\u001b[0m unexpected EOF while parsing\n"
          ]
        }
      ]
    },
    {
      "cell_type": "code",
      "metadata": {
        "id": "BBIf2Li1SUNd",
        "colab_type": "code",
        "colab": {}
      },
      "source": [
        ""
      ],
      "execution_count": 0,
      "outputs": []
    }
  ]
}