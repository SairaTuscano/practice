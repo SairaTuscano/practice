{
  "nbformat": 4,
  "nbformat_minor": 0,
  "metadata": {
    "colab": {
      "name": "lab5.ipynb",
      "provenance": [],
      "collapsed_sections": []
    },
    "kernelspec": {
      "name": "python3",
      "display_name": "Python 3"
    }
  },
  "cells": [
    {
      "cell_type": "markdown",
      "metadata": {
        "id": "09xUg9i3VVtS",
        "colab_type": "text"
      },
      "source": [
        "Task1"
      ]
    },
    {
      "cell_type": "code",
      "metadata": {
        "id": "NMwno5aCSru2",
        "colab_type": "code",
        "colab": {}
      },
      "source": [
        "import math\n",
        "class Point:\n",
        "  def __init__(self,x,y):\n",
        "    self.x = x\n",
        "    self.y = y\n",
        " \n",
        "  def __repr__(self):\n",
        "    return f'Point({self.x},{self.y})'\n",
        " \n",
        "  \n",
        "def Distance(p1,p2):\n",
        "    x = (p1.x-p2.x)\n",
        "    y = (p1.y-p2.y)\n",
        "    z=(x**2+y**2)\n",
        "    result=math.sqrt(z)\n",
        "    return result"
      ],
      "execution_count": 0,
      "outputs": []
    },
    {
      "cell_type": "code",
      "metadata": {
        "id": "i2tNqSauUTN1",
        "colab_type": "code",
        "outputId": "066ee94d-63ec-40ed-ac8a-42c7c1b06bc2",
        "colab": {
          "base_uri": "https://localhost:8080/",
          "height": 35
        }
      },
      "source": [
        "p1 = Point(80,100)\n",
        "p2 = Point(120,110)\n",
        "Distance(p1,p2)"
      ],
      "execution_count": 22,
      "outputs": [
        {
          "output_type": "execute_result",
          "data": {
            "text/plain": [
              "41.23105625617661"
            ]
          },
          "metadata": {
            "tags": []
          },
          "execution_count": 22
        }
      ]
    },
    {
      "cell_type": "markdown",
      "metadata": {
        "id": "HkRVWCH6Vjtb",
        "colab_type": "text"
      },
      "source": [
        "Task 2\n"
      ]
    },
    {
      "cell_type": "markdown",
      "metadata": {
        "id": "xL74FszUVjky",
        "colab_type": "text"
      },
      "source": [
        ""
      ]
    },
    {
      "cell_type": "code",
      "metadata": {
        "id": "GvN8E83TVihk",
        "colab_type": "code",
        "outputId": "814cfd9b-bd05-4ab9-e508-d985c7074ae7",
        "colab": {
          "base_uri": "https://localhost:8080/",
          "height": 54
        }
      },
      "source": [
        "class Rectangle:\n",
        "  def __init__(self,w,h,corner):\n",
        "    self.width = w\n",
        "    self.height = h\n",
        "    self.corner = corner\n",
        " \n",
        "  def __repr__(self):\n",
        "    return f'Rectangle({self.width},{self.height},Point({self.corner.x},{self.corner.y}))'\n",
        " \n",
        "def centre(r):\n",
        "  x = r.width/2 + r.corner.x\n",
        "  y = r.height/2 + r.corner.y\n",
        "  print(Point(x,y))\n",
        " \n",
        "def move_rectangle(r,dx,dy):\n",
        "  r.corner.x+=dx\n",
        "  r.corner.y+=dy\n",
        "  print(r)\n",
        " \n",
        "r_obj = Rectangle(123,401, Point(80,100))\n",
        "r_obj\n",
        "centre(r_obj)\n",
        "move_rectangle(r_obj,100,120)"
      ],
      "execution_count": 29,
      "outputs": [
        {
          "output_type": "stream",
          "text": [
            "point(141.5,300.5)\n",
            "Rectangle(123,401,Point(180,220))\n"
          ],
          "name": "stdout"
        }
      ]
    },
    {
      "cell_type": "markdown",
      "metadata": {
        "id": "i0o2eEQlXMsg",
        "colab_type": "text"
      },
      "source": [
        "Task 3"
      ]
    },
    {
      "cell_type": "code",
      "metadata": {
        "id": "RNU2GOSYXOg8",
        "colab_type": "code",
        "outputId": "d3da79e2-7f83-4fc1-b9c4-681d9326fe5a",
        "colab": {
          "base_uri": "https://localhost:8080/",
          "height": 35
        }
      },
      "source": [
        "class Point:\n",
        "  def __init__(self,x,y):\n",
        "    self.x = x\n",
        "    self.y = y\n",
        "  def __str__(self):\n",
        "    return f'({self.x},{self.y})'\n",
        "  def __add__(self):\n",
        "    result=self.x+self.y\n",
        "    return result\n",
        "\n",
        "p1 = Point(40,50)\n",
        "print(p1.__add__())\n"
      ],
      "execution_count": 40,
      "outputs": [
        {
          "output_type": "stream",
          "text": [
            "90\n"
          ],
          "name": "stdout"
        }
      ]
    },
    {
      "cell_type": "code",
      "metadata": {
        "id": "Y4323KeSXRn8",
        "colab_type": "code",
        "outputId": "7a248458-6b2e-4f6b-9369-8ff5eca1e31e",
        "colab": {
          "base_uri": "https://localhost:8080/",
          "height": 54
        }
      },
      "source": [
        "class Time:\n",
        "  def __init__(self,hour,mins,sec):\n",
        "    self.hour = hour\n",
        "    self.minutes = mins\n",
        "    self.seconds=sec\n",
        "  \n",
        "  def __str__(self):\n",
        "    return f'{self.hour}:{self.minutes}:{self.seconds}'\n",
        "\n",
        "def is_after(t1,t2):\n",
        "  t1 = [t1.hour]\n",
        "  t2 = [t2.hour]\n",
        "  return t1<t2\n",
        "\n",
        "t = Time(4,45,50)\n",
        "print(t)\n",
        "t1 = Time(6,38,18)\n",
        "t_final = is_after(t,t1)    \n",
        "print(t_final)"
      ],
      "execution_count": 6,
      "outputs": [
        {
          "output_type": "stream",
          "text": [
            "4:45:50\n",
            "True\n"
          ],
          "name": "stdout"
        }
      ]
    },
    {
      "cell_type": "code",
      "metadata": {
        "id": "294yqfZboXtI",
        "colab_type": "code",
        "colab": {}
      },
      "source": [
        "class kangaroo:\n",
        "  def __init__(self):\n",
        "    self.list1 = []\n",
        "  def put_in_pouch(self,object):\n",
        "    self.list1.append(object)\n",
        "  def __str__(self):\n",
        "    return 'pouch contains {}'.format(self.list1)\n",
        "  def __repr__(self):\n",
        "    return f'{self.list1}'\n",
        "\n",
        "\n",
        "\n"
      ],
      "execution_count": 0,
      "outputs": []
    },
    {
      "cell_type": "code",
      "metadata": {
        "id": "VNXx7Pp8pJKY",
        "colab_type": "code",
        "outputId": "10709224-992f-4977-93ad-a12474771284",
        "colab": {
          "base_uri": "https://localhost:8080/",
          "height": 34
        }
      },
      "source": [
        "k = kangaroo()\n",
        "r = kangaroo()\n",
        "k.put_in_pouch(r)\n",
        "print(k)"
      ],
      "execution_count": 0,
      "outputs": [
        {
          "output_type": "stream",
          "text": [
            "pouch contains [[]]\n"
          ],
          "name": "stdout"
        }
      ]
    },
    {
      "cell_type": "markdown",
      "metadata": {
        "id": "1yFZcJL4qXKh",
        "colab_type": "text"
      },
      "source": [
        "Task 6"
      ]
    },
    {
      "cell_type": "code",
      "metadata": {
        "id": "UlKo2nFWqW22",
        "colab_type": "code",
        "outputId": "38b3d116-d161-4651-e023-07ae4c53e93e",
        "colab": {
          "base_uri": "https://localhost:8080/",
          "height": 72
        }
      },
      "source": [
        "class Vehicle:\n",
        "  pass\n",
        "class LandVehicle(Vehicle):\n",
        "  pass\n",
        "class TrackedVehicle(LandVehicle):\n",
        "  pass\n",
        "for cl1 in [Vehicle, LandVehicle, TrackedVehicle]:\n",
        "  for cl2 in [Vehicle, LandVehicle, TrackedVehicle]:\n",
        "    print(issubclass(cl1,cl2),end='\\t')\n",
        "  print()"
      ],
      "execution_count": 0,
      "outputs": [
        {
          "output_type": "stream",
          "text": [
            "True\tFalse\tFalse\t\n",
            "True\tTrue\tFalse\t\n",
            "True\tTrue\tTrue\t\n"
          ],
          "name": "stdout"
        }
      ]
    },
    {
      "cell_type": "markdown",
      "metadata": {
        "id": "xBXuGSjLpjDf",
        "colab_type": "text"
      },
      "source": [
        "HomeWork Question 1"
      ]
    },
    {
      "cell_type": "markdown",
      "metadata": {
        "id": "FLJ0OILzpi7m",
        "colab_type": "text"
      },
      "source": [
        ""
      ]
    },
    {
      "cell_type": "code",
      "metadata": {
        "id": "EZLcTuLUph7g",
        "colab_type": "code",
        "colab": {}
      },
      "source": [
        "class Point:\n",
        "  def __init__(self,x,y):\n",
        "    self.x = x\n",
        "    self.y = y\n",
        "  def __add__(self,object):\n",
        "    if isinstance(object,Point):\n",
        "      return Point(self.x + object.x, self.y + object.y)\n",
        "    elif isinstance(object,tuple):\n",
        "      return Point(self.x + object[0], self.y + object[1])\n",
        "  def __repr__(self):\n",
        "    return u'Point ({0},{1})'.format(self.x,self.y)\n",
        "\n",
        "\n",
        "\n"
      ],
      "execution_count": 0,
      "outputs": []
    },
    {
      "cell_type": "code",
      "metadata": {
        "id": "_H8dTl_tsP2I",
        "colab_type": "code",
        "outputId": "27b370b9-10eb-4c82-ee36-7a8a820b680e",
        "colab": {
          "base_uri": "https://localhost:8080/",
          "height": 35
        }
      },
      "source": [
        "p = Point(12,33)\n",
        "print(p+ (5,4))"
      ],
      "execution_count": 0,
      "outputs": [
        {
          "output_type": "stream",
          "text": [
            "Point (17,37)\n"
          ],
          "name": "stdout"
        }
      ]
    },
    {
      "cell_type": "markdown",
      "metadata": {
        "id": "ZGXLKw4NtA4v",
        "colab_type": "text"
      },
      "source": [
        "Question 2"
      ]
    },
    {
      "cell_type": "code",
      "metadata": {
        "id": "OIUxwYPVtAKr",
        "colab_type": "code",
        "colab": {}
      },
      "source": [
        "class Ip4:\n",
        "  def __init__(self,ntwk,mask):\n",
        "    self.network = ntwk\n",
        "    self.mask = mask\n",
        "  \n",
        "  def __str__(self):\n",
        "    return f'Ip :({self.network},{self.mask})'\n",
        "  \n",
        "  def getNetwork(self):\n",
        "    list1 = []\n",
        "    for i in self.network:\n",
        "      list1.append(i)\n",
        "    list1.pop()\n",
        "    list1.append(0)\n",
        "    return list1\n",
        "  \n",
        "  def getMask(self):\n",
        "    if self.mask == 8:\n",
        "      mask = [255,0,0,0]\n",
        "      return mask\n",
        "    elif self.mask == 16:\n",
        "      mask = [255,255,0,0]\n",
        "      return mask\n",
        "    elif self.mask == 24:\n",
        "      mask = [255,255,255,0]\n",
        "      return mask\n",
        "    elif self.mask == 32:\n",
        "      mask = [255,255,255,255]\n",
        "      return mask\n",
        "\n"
      ],
      "execution_count": 0,
      "outputs": []
    },
    {
      "cell_type": "code",
      "metadata": {
        "id": "YF2uwxowvbFV",
        "colab_type": "code",
        "colab": {}
      },
      "source": [
        ""
      ],
      "execution_count": 0,
      "outputs": []
    },
    {
      "cell_type": "code",
      "metadata": {
        "id": "zQOloNaGu-Jh",
        "colab_type": "code",
        "outputId": "15bf7329-bfd1-4666-bdf4-c51f45847d02",
        "colab": {
          "base_uri": "https://localhost:8080/",
          "height": 54
        }
      },
      "source": [
        "ip = Ip4([122,42,55,70],24)\n",
        "#new = Ip4.getNetwork()\n",
        "#print(new)\n",
        "\n",
        "new_network = ip.getNetwork()\n",
        "print(new_network)\n",
        "new_mask = ip.getMask()\n",
        "print(new_mask)"
      ],
      "execution_count": 0,
      "outputs": [
        {
          "output_type": "stream",
          "text": [
            "[122, 42, 55, 0]\n",
            "[255, 255, 255, 0]\n"
          ],
          "name": "stdout"
        }
      ]
    },
    {
      "cell_type": "markdown",
      "metadata": {
        "id": "HGKnoE-excVF",
        "colab_type": "text"
      },
      "source": [
        "Question 3"
      ]
    },
    {
      "cell_type": "code",
      "metadata": {
        "id": "o1XaUaOSxbrE",
        "colab_type": "code",
        "outputId": "6efa6763-ddf8-450b-e8be-c6c6291eb445",
        "colab": {
          "base_uri": "https://localhost:8080/",
          "height": 90
        }
      },
      "source": [
        "def subnetworkConverter(address,mask):\n",
        "  ip = Ip4(address,mask)\n",
        "  new_net = ip.getNetwork()\n",
        "  print(new_net)\n",
        "  broadcast_network = []\n",
        "  for i in new_network:\n",
        "    broadcast_network.append(i)\n",
        "  \n",
        "  x=0\n",
        "  y=0\n",
        "  if mask == 8:\n",
        "    while x<3:\n",
        "      broadcast_network.pop()\n",
        "      x+=1\n",
        "    while y<3:\n",
        "      broadcast_network.append(255)\n",
        "      y+=1\n",
        "  if mask == 16:\n",
        "    while x<2:\n",
        "      broadcast_network.pop()\n",
        "      x+=1\n",
        "    while y<2:\n",
        "      broadcast_network.append(255)\n",
        "      y+=1\n",
        "  if mask == 24:\n",
        "    while x<1:\n",
        "      broadcast_network.pop()\n",
        "      x+=1\n",
        "    while y<1:\n",
        "      broadcast_network.append(255)\n",
        "      y+=1\n",
        "  print(broadcast_network)\n",
        "  #print('h',new_network[3])\n",
        "  new_network[3] +=1 \n",
        "  print('First Network',new_network)\n",
        "  broadcast_network[3] = broadcast_network[3]-1\n",
        "  print('Broadcast address is ',broadcast_network)\n",
        " \n",
        "subnetworkConverter([10,23,45,55],24)"
      ],
      "execution_count": 0,
      "outputs": [
        {
          "output_type": "stream",
          "text": [
            "[10, 23, 45, 0]\n",
            "[122, 42, 55, 255]\n",
            "First Network [122, 42, 55, 1]\n",
            "Broadcast address is  [122, 42, 55, 254]\n"
          ],
          "name": "stdout"
        }
      ]
    }
  ]
}